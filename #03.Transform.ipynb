{
  "nbformat": 4,
  "nbformat_minor": 0,
  "metadata": {
    "colab": {
      "name": "Transform",
      "provenance": [],
      "authorship_tag": "ABX9TyPYULdOS82jfxuUkcXYUdP1",
      "include_colab_link": true
    },
    "kernelspec": {
      "name": "python3",
      "display_name": "Python 3"
    },
    "language_info": {
      "name": "python"
    }
  },
  "cells": [
    {
      "cell_type": "markdown",
      "metadata": {
        "id": "view-in-github",
        "colab_type": "text"
      },
      "source": [
        "<a href=\"https://colab.research.google.com/github/Vaycold/pytorch_tutorial/blob/main/%2303.Transform.ipynb\" target=\"_parent\"><img src=\"https://colab.research.google.com/assets/colab-badge.svg\" alt=\"Open In Colab\"/></a>"
      ]
    },
    {
      "cell_type": "markdown",
      "metadata": {
        "id": "iyqfbfTNl3Hj"
      },
      "source": [
        "## 변형(Transform)\n",
        "\n",
        "    : 변형을 통해 데이터를 조작하고 학습에 적합하게 만듦\n",
        "    : 모든 Torchvision 데이터셋들은 변형 로직을 갖는, 호출 가능한 객체를 받는 매개변수 2개를 갖고있음\n",
        "       - 1. feature 변경하기 위한 transform\n",
        "       - 2. label 변경하기위한 target_transform"
      ]
    },
    {
      "cell_type": "code",
      "metadata": {
        "id": "unp1rSnJmVC3"
      },
      "source": [
        "import torch\n",
        "from torchvision import datasets\n",
        "from torchvision.transforms import ToTensor, Lambda\n",
        "\n",
        "ds = datasets.FashionMNIST(\n",
        "    root = 'data',\n",
        "    train=True,\n",
        "    download=True,\n",
        "    transform = ToTensor(), # Feature 변경\n",
        "    target_transform = Lambda(lambda y : torch.zeros(10,dtype=torch.float).scatter_(0, torch.tensor(y),value=1))\n",
        ")"
      ],
      "execution_count": 2,
      "outputs": []
    },
    {
      "cell_type": "code",
      "metadata": {
        "id": "ODXOo_tdnIMD"
      },
      "source": [
        "# ToTensor : PIL Image나 Numpy ndarray를 FloatTensor로 변환, 이미지의 픽셀크기를 [0,1]범위로 조정\n",
        "# Lambda : 크기 10짜리 영텐서를 만든 후 -> scatter_를 호출하여 주어진 정답 y에 해당하는 인덱스에 1할당"
      ],
      "execution_count": null,
      "outputs": []
    }
  ]
}