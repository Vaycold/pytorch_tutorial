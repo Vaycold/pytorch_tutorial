{
  "nbformat": 4,
  "nbformat_minor": 0,
  "metadata": {
    "colab": {
      "name": "신경망 모델 구성하기",
      "provenance": [],
      "authorship_tag": "ABX9TyOxBmBmIQFOZB5ePvPvqkiJ",
      "include_colab_link": true
    },
    "kernelspec": {
      "name": "python3",
      "display_name": "Python 3"
    },
    "language_info": {
      "name": "python"
    }
  },
  "cells": [
    {
      "cell_type": "markdown",
      "metadata": {
        "id": "view-in-github",
        "colab_type": "text"
      },
      "source": [
        "<a href=\"https://colab.research.google.com/github/Vaycold/pytorch_tutorial/blob/main/%2304.%EC%8B%A0%EA%B2%BD%EB%A7%9D%20%EB%AA%A8%EB%8D%B8%20%EA%B5%AC%EC%84%B1%ED%95%98%EA%B8%B0.ipynb\" target=\"_parent\"><img src=\"https://colab.research.google.com/assets/colab-badge.svg\" alt=\"Open In Colab\"/></a>"
      ]
    },
    {
      "cell_type": "markdown",
      "metadata": {
        "id": "ACbRpFPDoqfe"
      },
      "source": [
        "## 신경망 모델 구성하기\n",
        "\n",
        "    : 신경망은 데이터에 대한 연산을 수행하는 계층/ 모듈로 구성\n",
        "    : torch.nn namespace - 신경망을 구성하는 데 필요한 모든 구성요소 제공\n",
        "    : PyTorch의 모든 모듈은 nn.Module의 하위 클래스\n",
        "    : 신경망은 다른 모듈로 구성된 모듈\n",
        "    "
      ]
    },
    {
      "cell_type": "code",
      "metadata": {
        "id": "J6g9FsXTo9EU"
      },
      "source": [
        "import os\n",
        "import torch\n",
        "from torch import nn\n",
        "from torch.utils.data import DataLoader\n",
        "from torchvision import datasets, transforms"
      ],
      "execution_count": 1,
      "outputs": []
    },
    {
      "cell_type": "code",
      "metadata": {
        "colab": {
          "base_uri": "https://localhost:8080/"
        },
        "id": "XqTiD0IepEb5",
        "outputId": "43d36196-2ca1-4d07-961d-908bf8285368"
      },
      "source": [
        "device = 'cuda' if torch.cuda.is_available() else 'cpu'\n",
        "print(device)"
      ],
      "execution_count": 2,
      "outputs": [
        {
          "output_type": "stream",
          "name": "stdout",
          "text": [
            "cpu\n"
          ]
        }
      ]
    },
    {
      "cell_type": "markdown",
      "metadata": {
        "id": "V6tXfR-opKm7"
      },
      "source": [
        "### 클래스 정의\n",
        "\n",
        "    : 신경망 모델을 nn.Module의 하위 클래스로 정의\n",
        "    : __init__ 에서 신경망 계층들을 초기화\n",
        "    : nn.Module을 상속받은 모든 클래스는 forward 메소드에 입력 데이터에 대한 연산들을 구현\n"
      ]
    },
    {
      "cell_type": "code",
      "metadata": {
        "colab": {
          "base_uri": "https://localhost:8080/"
        },
        "id": "XASugtkGpVoM",
        "outputId": "1219431e-aec5-4265-8d9c-056867735bb3"
      },
      "source": [
        "class NeuralNetwork(nn.Module) :\n",
        "    def __init__(self) :\n",
        "        super(NeuralNetwork, self).__init__()\n",
        "        self.flatten = nn.Flatten()\n",
        "        self.linear_relu_stack = nn.Sequential(\n",
        "            nn.Linear(28*28, 512),\n",
        "            nn.ReLU(),\n",
        "            nn.Linear(512,512),\n",
        "            nn.ReLU(),\n",
        "            nn.Linear(512,10),\n",
        "            nn.ReLU()\n",
        "        )\n",
        "    \n",
        "    def forward(self, x) :\n",
        "        x = self.flatten(x)\n",
        "        logits = self.linear_relu_stack(x)\n",
        "        return logits\n",
        "model = NeuralNetwork().to(device)\n",
        "print(model)"
      ],
      "execution_count": 4,
      "outputs": [
        {
          "output_type": "stream",
          "name": "stdout",
          "text": [
            "NeuralNetwork(\n",
            "  (flatten): Flatten(start_dim=1, end_dim=-1)\n",
            "  (linear_relu_stack): Sequential(\n",
            "    (0): Linear(in_features=784, out_features=512, bias=True)\n",
            "    (1): ReLU()\n",
            "    (2): Linear(in_features=512, out_features=512, bias=True)\n",
            "    (3): ReLU()\n",
            "    (4): Linear(in_features=512, out_features=10, bias=True)\n",
            "    (5): ReLU()\n",
            "  )\n",
            ")\n"
          ]
        }
      ]
    },
    {
      "cell_type": "code",
      "metadata": {
        "colab": {
          "base_uri": "https://localhost:8080/"
        },
        "id": "9TmjcYgUp1Lh",
        "outputId": "35c6b898-ba68-4d8d-f0fc-5d8c258fb9f0"
      },
      "source": [
        "x = torch.rand(1,28,28, device = device)\n",
        "logits = model(x)\n",
        "pred_probab = nn.Softmax(dim=1)(logits)\n",
        "y_pred = pred_probab.argmax(1)\n",
        "print('predicted class : ', y_pred)"
      ],
      "execution_count": 6,
      "outputs": [
        {
          "output_type": "stream",
          "name": "stdout",
          "text": [
            "predicted class :  tensor([7])\n"
          ]
        }
      ]
    },
    {
      "cell_type": "code",
      "metadata": {
        "colab": {
          "base_uri": "https://localhost:8080/"
        },
        "id": "quTPmNyqqMAx",
        "outputId": "edb70985-afd1-4036-b2e5-f70f1f8fde77"
      },
      "source": [
        "# 모델 계층(Layer)\n",
        "input_image = torch.rand(3,28,28)\n",
        "print(input_image.size())"
      ],
      "execution_count": 8,
      "outputs": [
        {
          "output_type": "stream",
          "name": "stdout",
          "text": [
            "torch.Size([3, 28, 28])\n"
          ]
        }
      ]
    },
    {
      "cell_type": "code",
      "metadata": {
        "colab": {
          "base_uri": "https://localhost:8080/"
        },
        "id": "RfnFZdUtqSD0",
        "outputId": "38fb7160-e196-4396-8a2a-d9b56676b943"
      },
      "source": [
        "# nn.Flatten : 28x28의 2D 이미지를 784픽셀 값을 갖는 연속된 배열로 변환 \n",
        "# 이 때 미니배치의 차원은 유지\n",
        "flatten = nn.Flatten()\n",
        "flat_image = flatten(input_image)\n",
        "print(flat_image.size())"
      ],
      "execution_count": 9,
      "outputs": [
        {
          "output_type": "stream",
          "name": "stdout",
          "text": [
            "torch.Size([3, 784])\n"
          ]
        }
      ]
    },
    {
      "cell_type": "code",
      "metadata": {
        "colab": {
          "base_uri": "https://localhost:8080/"
        },
        "id": "74hIKermqhQX",
        "outputId": "98590377-72ca-47fa-d255-9b168e0aee57"
      },
      "source": [
        "# nn.Linear\n",
        "# 선형 계층은 저장된 가중치와 편향을 사용하여 입력에 선형 변환을 적용하는 모듈\n",
        "layer1 = nn.Linear(in_features=28*28, out_features=20)\n",
        "hidden1 = layer1(flat_image)\n",
        "print(hidden1.size())"
      ],
      "execution_count": 10,
      "outputs": [
        {
          "output_type": "stream",
          "name": "stdout",
          "text": [
            "torch.Size([3, 20])\n"
          ]
        }
      ]
    },
    {
      "cell_type": "code",
      "metadata": {
        "colab": {
          "base_uri": "https://localhost:8080/"
        },
        "id": "XA8S_xvOqyAG",
        "outputId": "3e6cdc54-6bcd-4022-95bb-ec0374f6272e"
      },
      "source": [
        "# nn.ReLU\n",
        "# 비선형 활성화는 모델의 입력과 출력사이에 복잡한 관계를 만듬\n",
        "# 비선형 활성화는 선형 변환 후에 적용되어 비선형성을 도입하고 신경망이 다양한 현상을 학습할 수 있도록 도움\n",
        "\n",
        "print( 'Before ReLU')\n",
        "print(hidden1)\n",
        "print('*'*100)\n",
        "print('After ReLU')\n",
        "hidden1 = nn.ReLU()(hidden1)\n",
        "print(hidden1)"
      ],
      "execution_count": 15,
      "outputs": [
        {
          "output_type": "stream",
          "name": "stdout",
          "text": [
            "Before ReLU\n",
            "tensor([[-0.1771, -0.2340,  0.1187,  0.0797,  0.3301, -0.1149, -0.3920,  0.3216,\n",
            "         -0.6674,  0.7789,  0.6370, -0.1812, -0.2905, -0.1899, -0.0121, -0.2047,\n",
            "         -0.4074,  0.2750,  0.6261,  0.2650],\n",
            "        [-0.2580, -0.1416,  0.0415, -0.0641,  0.2165,  0.1917, -0.4925, -0.2071,\n",
            "         -0.3075,  0.4703,  0.6017, -0.4164, -0.0620, -0.4173,  0.0444, -0.5167,\n",
            "         -0.3085,  0.1961,  0.3941,  0.2415],\n",
            "        [-0.2436, -0.3379,  0.0588,  0.1698,  0.2068,  0.6604, -0.5532,  0.0314,\n",
            "         -0.3529,  0.6564,  0.7165, -0.2779, -0.0416, -0.2930,  0.4511,  0.0047,\n",
            "         -0.4948,  0.4627,  0.2174,  0.4278]], grad_fn=<AddmmBackward>)\n",
            "****************************************************************************************************\n",
            "After ReLU\n",
            "tensor([[0.0000, 0.0000, 0.1187, 0.0797, 0.3301, 0.0000, 0.0000, 0.3216, 0.0000,\n",
            "         0.7789, 0.6370, 0.0000, 0.0000, 0.0000, 0.0000, 0.0000, 0.0000, 0.2750,\n",
            "         0.6261, 0.2650],\n",
            "        [0.0000, 0.0000, 0.0415, 0.0000, 0.2165, 0.1917, 0.0000, 0.0000, 0.0000,\n",
            "         0.4703, 0.6017, 0.0000, 0.0000, 0.0000, 0.0444, 0.0000, 0.0000, 0.1961,\n",
            "         0.3941, 0.2415],\n",
            "        [0.0000, 0.0000, 0.0588, 0.1698, 0.2068, 0.6604, 0.0000, 0.0314, 0.0000,\n",
            "         0.6564, 0.7165, 0.0000, 0.0000, 0.0000, 0.4511, 0.0047, 0.0000, 0.4627,\n",
            "         0.2174, 0.4278]], grad_fn=<ReluBackward0>)\n"
          ]
        }
      ]
    },
    {
      "cell_type": "code",
      "metadata": {
        "id": "nzLQFCF6rVuz"
      },
      "source": [
        "# nn.Sequential\n",
        "# 순서를 갖는 모듈의 컨테이너\n",
        "# 데이터는 정의된 것과 같은 순서로 모든 모듈들을 통해 전달됨\n",
        "seq_modules = nn.Sequential(\n",
        "    flatten,\n",
        "    layer1,\n",
        "    nn.ReLU(),\n",
        "    nn.Linear(20,10)\n",
        "\n",
        ") \n",
        "input_image = torch.rand(3,28,28)\n",
        "logits = seq_modules(input_image)"
      ],
      "execution_count": 16,
      "outputs": []
    },
    {
      "cell_type": "code",
      "metadata": {
        "id": "c29qfpJxsIQf"
      },
      "source": [
        "# nn.Softmax\n",
        "softmax = nn.Softmax(dim=1)\n",
        "pred_probab = softmax(logits)"
      ],
      "execution_count": 17,
      "outputs": []
    },
    {
      "cell_type": "code",
      "metadata": {
        "colab": {
          "base_uri": "https://localhost:8080/"
        },
        "id": "SFYqE3L9sUN4",
        "outputId": "6c9155ea-674e-4962-a60f-18eeeda2d31f"
      },
      "source": [
        "# 모델의 매개변수\n",
        "# 신경망 내부의 많은 계층들은 매개변수화(parameterize)됨\n",
        "# 즉 학습 중 최적화되는 가중치와 편향과 연관지어짐\n",
        "# 모델의 parameters() 및 named_parameters() 메소드로 모든 매개변수에 접근할 수 있게됨\n",
        "\n",
        "print('model structure', model, '\\n')\n",
        "for name, param in model.named_parameters() :\n",
        "    print('layer : {} | Size : {} | Values : {} \\n'.format(name,param.size(),param[:2]))"
      ],
      "execution_count": 22,
      "outputs": [
        {
          "output_type": "stream",
          "name": "stdout",
          "text": [
            "model structure NeuralNetwork(\n",
            "  (flatten): Flatten(start_dim=1, end_dim=-1)\n",
            "  (linear_relu_stack): Sequential(\n",
            "    (0): Linear(in_features=784, out_features=512, bias=True)\n",
            "    (1): ReLU()\n",
            "    (2): Linear(in_features=512, out_features=512, bias=True)\n",
            "    (3): ReLU()\n",
            "    (4): Linear(in_features=512, out_features=10, bias=True)\n",
            "    (5): ReLU()\n",
            "  )\n",
            ") \n",
            "\n",
            "layer : linear_relu_stack.0.weight | Size : torch.Size([512, 784]) | Values : tensor([[ 0.0206,  0.0119,  0.0346,  ..., -0.0074,  0.0331,  0.0159],\n",
            "        [-0.0357,  0.0002,  0.0245,  ...,  0.0169, -0.0122, -0.0177]],\n",
            "       grad_fn=<SliceBackward>) \n",
            "\n",
            "layer : linear_relu_stack.0.bias | Size : torch.Size([512]) | Values : tensor([-0.0146,  0.0325], grad_fn=<SliceBackward>) \n",
            "\n",
            "layer : linear_relu_stack.2.weight | Size : torch.Size([512, 512]) | Values : tensor([[-0.0337,  0.0200,  0.0283,  ...,  0.0321, -0.0237, -0.0098],\n",
            "        [ 0.0182, -0.0225, -0.0054,  ...,  0.0122, -0.0331,  0.0124]],\n",
            "       grad_fn=<SliceBackward>) \n",
            "\n",
            "layer : linear_relu_stack.2.bias | Size : torch.Size([512]) | Values : tensor([0.0168, 0.0322], grad_fn=<SliceBackward>) \n",
            "\n",
            "layer : linear_relu_stack.4.weight | Size : torch.Size([10, 512]) | Values : tensor([[-0.0119, -0.0331, -0.0180,  ...,  0.0044, -0.0283,  0.0398],\n",
            "        [ 0.0354, -0.0171, -0.0147,  ...,  0.0277, -0.0223, -0.0226]],\n",
            "       grad_fn=<SliceBackward>) \n",
            "\n",
            "layer : linear_relu_stack.4.bias | Size : torch.Size([10]) | Values : tensor([-0.0012, -0.0011], grad_fn=<SliceBackward>) \n",
            "\n"
          ]
        }
      ]
    },
    {
      "cell_type": "code",
      "metadata": {
        "id": "o9QsRGOgs7Sj"
      },
      "source": [
        ""
      ],
      "execution_count": null,
      "outputs": []
    }
  ]
}