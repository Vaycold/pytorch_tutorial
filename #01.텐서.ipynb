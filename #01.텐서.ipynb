{
  "nbformat": 4,
  "nbformat_minor": 0,
  "metadata": {
    "colab": {
      "name": "텐서",
      "provenance": [],
      "authorship_tag": "ABX9TyOl19ikdfDMMHSO+Dit7e+E",
      "include_colab_link": true
    },
    "kernelspec": {
      "name": "python3",
      "display_name": "Python 3"
    },
    "language_info": {
      "name": "python"
    }
  },
  "cells": [
    {
      "cell_type": "markdown",
      "metadata": {
        "id": "view-in-github",
        "colab_type": "text"
      },
      "source": [
        "<a href=\"https://colab.research.google.com/github/Vaycold/pytorch_tutorial/blob/main/%2301.%ED%85%90%EC%84%9C.ipynb\" target=\"_parent\"><img src=\"https://colab.research.google.com/assets/colab-badge.svg\" alt=\"Open In Colab\"/></a>"
      ]
    },
    {
      "cell_type": "markdown",
      "metadata": {
        "id": "fCZdveWOLaxz"
      },
      "source": [
        "## Tensor\n",
        "\n",
        "    : 텐서는 배열이나 행렬과 매우 유사한 특수한 자료구조\n",
        "    "
      ]
    },
    {
      "cell_type": "code",
      "metadata": {
        "id": "Xv3Y4ULtLlNR"
      },
      "source": [
        "import torch\n",
        "import numpy as np"
      ],
      "execution_count": 1,
      "outputs": []
    },
    {
      "cell_type": "code",
      "metadata": {
        "id": "RgxTboWCLm6l"
      },
      "source": [
        "# 데이터로부터 직접 생성\n",
        "data = [[1,2],[3,4]]\n",
        "x_data = torch.tensor(data)"
      ],
      "execution_count": 2,
      "outputs": []
    },
    {
      "cell_type": "code",
      "metadata": {
        "colab": {
          "base_uri": "https://localhost:8080/"
        },
        "id": "4IpJvUzZLvLw",
        "outputId": "de8afc1a-f4e6-4859-d1d2-38542c80c284"
      },
      "source": [
        "x_data"
      ],
      "execution_count": 3,
      "outputs": [
        {
          "output_type": "execute_result",
          "data": {
            "text/plain": [
              "tensor([[1, 2],\n",
              "        [3, 4]])"
            ]
          },
          "metadata": {},
          "execution_count": 3
        }
      ]
    },
    {
      "cell_type": "code",
      "metadata": {
        "id": "NnpwH_5aLwY1"
      },
      "source": [
        "# Numpy 배열로부터 생성\n",
        "np_array = np.array(data)\n",
        "x_np = torch.from_numpy(np_array)"
      ],
      "execution_count": 4,
      "outputs": []
    },
    {
      "cell_type": "code",
      "metadata": {
        "colab": {
          "base_uri": "https://localhost:8080/"
        },
        "id": "dU8IFWVPL3ga",
        "outputId": "8a7a6517-284e-47af-a492-2f8529184244"
      },
      "source": [
        "x_np"
      ],
      "execution_count": 5,
      "outputs": [
        {
          "output_type": "execute_result",
          "data": {
            "text/plain": [
              "tensor([[1, 2],\n",
              "        [3, 4]])"
            ]
          },
          "metadata": {},
          "execution_count": 5
        }
      ]
    },
    {
      "cell_type": "code",
      "metadata": {
        "colab": {
          "base_uri": "https://localhost:8080/"
        },
        "id": "CZAXSWvRL37h",
        "outputId": "52a6dbe3-1ebb-4ee8-ceb1-160178296757"
      },
      "source": [
        "# 다른 텐서로부터 생성\n",
        "'''\n",
        "명시적으로 재정의하지 않으면 인자로 주어진 텐서의 속상, 자료형을 유지함\n",
        "'''\n",
        "x_ones = torch.ones_like(x_data)\n",
        "x_ones"
      ],
      "execution_count": 6,
      "outputs": [
        {
          "output_type": "execute_result",
          "data": {
            "text/plain": [
              "tensor([[1, 1],\n",
              "        [1, 1]])"
            ]
          },
          "metadata": {},
          "execution_count": 6
        }
      ]
    },
    {
      "cell_type": "code",
      "metadata": {
        "colab": {
          "base_uri": "https://localhost:8080/"
        },
        "id": "p3obMrMDMIrh",
        "outputId": "e273ee8b-8bb4-405b-cb90-a5997f75c699"
      },
      "source": [
        "x_rand = torch.rand_like(x_data, dtype=torch.float)\n",
        "x_rand"
      ],
      "execution_count": 7,
      "outputs": [
        {
          "output_type": "execute_result",
          "data": {
            "text/plain": [
              "tensor([[0.4900, 0.5729],\n",
              "        [0.9032, 0.4790]])"
            ]
          },
          "metadata": {},
          "execution_count": 7
        }
      ]
    },
    {
      "cell_type": "code",
      "metadata": {
        "colab": {
          "base_uri": "https://localhost:8080/"
        },
        "id": "31OY_jS4MPWR",
        "outputId": "11d3f279-07f8-42b9-e91d-00f91f489f63"
      },
      "source": [
        "# 무작위 또는 상수 값을 사용하기\n",
        "shape = (2,3,)\n",
        "rand_tensor = torch.rand(shape)\n",
        "ones_tensor = torch.ones(shape)\n",
        "zeros_tensor = torch.zeros(shape)\n",
        "\n",
        "print(rand_tensor)\n",
        "print(ones_tensor)\n",
        "print(zeros_tensor)"
      ],
      "execution_count": 8,
      "outputs": [
        {
          "output_type": "stream",
          "name": "stdout",
          "text": [
            "tensor([[0.3844, 0.6017, 0.2054],\n",
            "        [0.9826, 0.7143, 0.0113]])\n",
            "tensor([[1., 1., 1.],\n",
            "        [1., 1., 1.]])\n",
            "tensor([[0., 0., 0.],\n",
            "        [0., 0., 0.]])\n"
          ]
        }
      ]
    },
    {
      "cell_type": "code",
      "metadata": {
        "colab": {
          "base_uri": "https://localhost:8080/"
        },
        "id": "O2Drytr8Mm26",
        "outputId": "dfda9d08-1d20-48a7-d0e8-fca5aacfbecf"
      },
      "source": [
        "# 텐서의 속성\n",
        "'''\n",
        "텐서의 속성은 텐서의 모양, 자료형, 어느장치에 저장되는 지를 나타냄\n",
        "'''\n",
        "tensor = torch.rand(3,4)\n",
        "print('Shape of tensor : ', tensor.shape)\n",
        "print('Datatype of tensor : ', tensor.dtype)\n",
        "print('Device tensor is sored on : ', tensor.device)"
      ],
      "execution_count": 10,
      "outputs": [
        {
          "output_type": "stream",
          "name": "stdout",
          "text": [
            "Shape of tensor :  torch.Size([3, 4])\n",
            "Datatype of tensor :  torch.float32\n",
            "Device tensor is sored on :  cpu\n"
          ]
        }
      ]
    },
    {
      "cell_type": "code",
      "metadata": {
        "colab": {
          "base_uri": "https://localhost:8080/"
        },
        "id": "FCMxh4VH_omG",
        "outputId": "18b623e8-f2f4-45b6-80e1-e41d2ef4cf05"
      },
      "source": [
        "# 텐서 연산\n",
        "tensor = torch.ones(4,4)\n",
        "print('1st row : ', tensor[0])\n",
        "print('1st column : ', tensor[:,0])\n",
        "print('Last column : ', tensor[...,-1])\n",
        "\n",
        "tensor[:,1] = 0\n",
        "print(tensor)"
      ],
      "execution_count": 12,
      "outputs": [
        {
          "output_type": "stream",
          "name": "stdout",
          "text": [
            "1st row :  tensor([1., 1., 1., 1.])\n",
            "1st column :  tensor([1., 1., 1., 1.])\n",
            "Last column :  tensor([1., 1., 1., 1.])\n",
            "tensor([[1., 0., 1., 1.],\n",
            "        [1., 0., 1., 1.],\n",
            "        [1., 0., 1., 1.],\n",
            "        [1., 0., 1., 1.]])\n"
          ]
        }
      ]
    },
    {
      "cell_type": "code",
      "metadata": {
        "colab": {
          "base_uri": "https://localhost:8080/"
        },
        "id": "-tlcOyl_AqSQ",
        "outputId": "38b25e74-c61d-48f9-ea0a-3bbe0c4c36cf"
      },
      "source": [
        "# 텐서 합치기\n",
        "\n",
        "t1 = torch.cat([tensor, tensor])\n",
        "print(t1)\n",
        "print(t1.shape)"
      ],
      "execution_count": 21,
      "outputs": [
        {
          "output_type": "stream",
          "name": "stdout",
          "text": [
            "tensor([[1., 0., 1., 1.],\n",
            "        [1., 0., 1., 1.],\n",
            "        [1., 0., 1., 1.],\n",
            "        [1., 0., 1., 1.],\n",
            "        [1., 0., 1., 1.],\n",
            "        [1., 0., 1., 1.],\n",
            "        [1., 0., 1., 1.],\n",
            "        [1., 0., 1., 1.]])\n",
            "torch.Size([8, 4])\n"
          ]
        }
      ]
    },
    {
      "cell_type": "code",
      "metadata": {
        "colab": {
          "base_uri": "https://localhost:8080/"
        },
        "id": "0j5h3LEwA_ZO",
        "outputId": "086a5c01-f11e-42e5-f0d9-582929d5e4e6"
      },
      "source": [
        "t2 = torch.cat([tensor, tensor], axis=1)\n",
        "print(t2)\n",
        "print(t2.shape)"
      ],
      "execution_count": 22,
      "outputs": [
        {
          "output_type": "stream",
          "name": "stdout",
          "text": [
            "tensor([[1., 0., 1., 1., 1., 0., 1., 1.],\n",
            "        [1., 0., 1., 1., 1., 0., 1., 1.],\n",
            "        [1., 0., 1., 1., 1., 0., 1., 1.],\n",
            "        [1., 0., 1., 1., 1., 0., 1., 1.]])\n",
            "torch.Size([4, 8])\n"
          ]
        }
      ]
    },
    {
      "cell_type": "code",
      "metadata": {
        "colab": {
          "base_uri": "https://localhost:8080/"
        },
        "id": "iInWC6HoBDbp",
        "outputId": "0d48d03f-ab6e-491d-d958-d14bc23b5b7b"
      },
      "source": [
        "print(torch.stack((tensor,tensor)))\n",
        "print(torch.stack((tensor,tensor)).shape)"
      ],
      "execution_count": 23,
      "outputs": [
        {
          "output_type": "stream",
          "name": "stdout",
          "text": [
            "tensor([[[1., 0., 1., 1.],\n",
            "         [1., 0., 1., 1.],\n",
            "         [1., 0., 1., 1.],\n",
            "         [1., 0., 1., 1.]],\n",
            "\n",
            "        [[1., 0., 1., 1.],\n",
            "         [1., 0., 1., 1.],\n",
            "         [1., 0., 1., 1.],\n",
            "         [1., 0., 1., 1.]]])\n",
            "torch.Size([2, 4, 4])\n"
          ]
        }
      ]
    },
    {
      "cell_type": "code",
      "metadata": {
        "colab": {
          "base_uri": "https://localhost:8080/"
        },
        "id": "KWTvWc8gBIv0",
        "outputId": "414f2b9c-4f44-4fcd-ccc6-2a7de69b28c7"
      },
      "source": [
        "print(torch.stack((tensor,tensor),axis=1))\n",
        "print(torch.stack((tensor,tensor),axis=1).shape)"
      ],
      "execution_count": 25,
      "outputs": [
        {
          "output_type": "stream",
          "name": "stdout",
          "text": [
            "tensor([[[1., 0., 1., 1.],\n",
            "         [1., 0., 1., 1.]],\n",
            "\n",
            "        [[1., 0., 1., 1.],\n",
            "         [1., 0., 1., 1.]],\n",
            "\n",
            "        [[1., 0., 1., 1.],\n",
            "         [1., 0., 1., 1.]],\n",
            "\n",
            "        [[1., 0., 1., 1.],\n",
            "         [1., 0., 1., 1.]]])\n",
            "torch.Size([4, 2, 4])\n"
          ]
        }
      ]
    },
    {
      "cell_type": "markdown",
      "metadata": {
        "id": "zw3un11TCW_0"
      },
      "source": [
        ""
      ]
    },
    {
      "cell_type": "code",
      "metadata": {
        "colab": {
          "base_uri": "https://localhost:8080/"
        },
        "id": "uru-ZvifBliL",
        "outputId": "9691750b-abed-44a6-b173-b03f9d8ad86f"
      },
      "source": [
        "test1 = torch.randint(10,(3,3))\n",
        "test2 = torch.randint(10,(3,2))\n",
        "\n",
        "print(test1,'\\n')\n",
        "print(test2)"
      ],
      "execution_count": 51,
      "outputs": [
        {
          "output_type": "stream",
          "name": "stdout",
          "text": [
            "tensor([[6, 1, 8],\n",
            "        [6, 8, 6],\n",
            "        [3, 6, 2]]) \n",
            "\n",
            "tensor([[2, 4],\n",
            "        [3, 7],\n",
            "        [4, 5]])\n"
          ]
        }
      ]
    },
    {
      "cell_type": "code",
      "metadata": {
        "colab": {
          "base_uri": "https://localhost:8080/"
        },
        "id": "e5-XTKmvB-H1",
        "outputId": "aa029052-e8c2-49b0-d56c-94d9ecf72119"
      },
      "source": [
        "print(torch.cat([test1,test1]))\n",
        "print('')\n",
        "print(torch.cat([test1,test1],axis=1))"
      ],
      "execution_count": 52,
      "outputs": [
        {
          "output_type": "stream",
          "name": "stdout",
          "text": [
            "tensor([[6, 1, 8],\n",
            "        [6, 8, 6],\n",
            "        [3, 6, 2],\n",
            "        [6, 1, 8],\n",
            "        [6, 8, 6],\n",
            "        [3, 6, 2]])\n",
            "\n",
            "tensor([[6, 1, 8, 6, 1, 8],\n",
            "        [6, 8, 6, 6, 8, 6],\n",
            "        [3, 6, 2, 3, 6, 2]])\n"
          ]
        }
      ]
    },
    {
      "cell_type": "code",
      "metadata": {
        "colab": {
          "base_uri": "https://localhost:8080/",
          "height": 229
        },
        "id": "tEH-KXFoDz94",
        "outputId": "600a9e73-5a55-4188-a223-d167ec8c83ef"
      },
      "source": [
        "print(torch.cat([test1,test2]))\n",
        "print('')\n",
        "#print(torch.cat([test,test],axis=1))"
      ],
      "execution_count": 53,
      "outputs": [
        {
          "output_type": "error",
          "ename": "RuntimeError",
          "evalue": "ignored",
          "traceback": [
            "\u001b[0;31m---------------------------------------------------------------------------\u001b[0m",
            "\u001b[0;31mRuntimeError\u001b[0m                              Traceback (most recent call last)",
            "\u001b[0;32m<ipython-input-53-8d32f43ea935>\u001b[0m in \u001b[0;36m<module>\u001b[0;34m()\u001b[0m\n\u001b[0;32m----> 1\u001b[0;31m \u001b[0mprint\u001b[0m\u001b[0;34m(\u001b[0m\u001b[0mtorch\u001b[0m\u001b[0;34m.\u001b[0m\u001b[0mcat\u001b[0m\u001b[0;34m(\u001b[0m\u001b[0;34m[\u001b[0m\u001b[0mtest1\u001b[0m\u001b[0;34m,\u001b[0m\u001b[0mtest2\u001b[0m\u001b[0;34m]\u001b[0m\u001b[0;34m)\u001b[0m\u001b[0;34m)\u001b[0m\u001b[0;34m\u001b[0m\u001b[0;34m\u001b[0m\u001b[0m\n\u001b[0m\u001b[1;32m      2\u001b[0m \u001b[0mprint\u001b[0m\u001b[0;34m(\u001b[0m\u001b[0;34m''\u001b[0m\u001b[0;34m)\u001b[0m\u001b[0;34m\u001b[0m\u001b[0;34m\u001b[0m\u001b[0m\n\u001b[1;32m      3\u001b[0m \u001b[0;31m#print(torch.cat([test,test],axis=1))\u001b[0m\u001b[0;34m\u001b[0m\u001b[0;34m\u001b[0m\u001b[0;34m\u001b[0m\u001b[0m\n",
            "\u001b[0;31mRuntimeError\u001b[0m: torch.cat(): Sizes of tensors must match except in dimension 0. Got 3 and 2 in dimension 1 (The offending index is 1)"
          ]
        }
      ]
    },
    {
      "cell_type": "code",
      "metadata": {
        "colab": {
          "base_uri": "https://localhost:8080/"
        },
        "id": "8RyICNeXEPKT",
        "outputId": "dd088549-b784-40cf-c199-59585aaf9540"
      },
      "source": [
        "print('')\n",
        "print(torch.cat([test1,test2],axis=1))"
      ],
      "execution_count": 54,
      "outputs": [
        {
          "output_type": "stream",
          "name": "stdout",
          "text": [
            "\n",
            "tensor([[6, 1, 8, 2, 4],\n",
            "        [6, 8, 6, 3, 7],\n",
            "        [3, 6, 2, 4, 5]])\n"
          ]
        }
      ]
    },
    {
      "cell_type": "code",
      "metadata": {
        "colab": {
          "base_uri": "https://localhost:8080/",
          "height": 192
        },
        "id": "hdjf2ln5EYzO",
        "outputId": "7729bf1e-54ae-4c1b-9d80-0ff0f5c4e5e2"
      },
      "source": [
        "torch.stack((test1,test2))"
      ],
      "execution_count": 56,
      "outputs": [
        {
          "output_type": "error",
          "ename": "RuntimeError",
          "evalue": "ignored",
          "traceback": [
            "\u001b[0;31m---------------------------------------------------------------------------\u001b[0m",
            "\u001b[0;31mRuntimeError\u001b[0m                              Traceback (most recent call last)",
            "\u001b[0;32m<ipython-input-56-ed83953fa5ef>\u001b[0m in \u001b[0;36m<module>\u001b[0;34m()\u001b[0m\n\u001b[0;32m----> 1\u001b[0;31m \u001b[0mtorch\u001b[0m\u001b[0;34m.\u001b[0m\u001b[0mstack\u001b[0m\u001b[0;34m(\u001b[0m\u001b[0;34m(\u001b[0m\u001b[0mtest1\u001b[0m\u001b[0;34m,\u001b[0m\u001b[0mtest2\u001b[0m\u001b[0;34m)\u001b[0m\u001b[0;34m)\u001b[0m\u001b[0;34m\u001b[0m\u001b[0;34m\u001b[0m\u001b[0m\n\u001b[0m",
            "\u001b[0;31mRuntimeError\u001b[0m: stack expects each tensor to be equal size, but got [3, 3] at entry 0 and [3, 2] at entry 1"
          ]
        }
      ]
    },
    {
      "cell_type": "code",
      "metadata": {
        "colab": {
          "base_uri": "https://localhost:8080/",
          "height": 192
        },
        "id": "P5lLkfoaEcQq",
        "outputId": "e19cfb25-cd3f-4d9e-f58e-0dc92959bff0"
      },
      "source": [
        "torch.stack((test1,test2),axis=2)"
      ],
      "execution_count": 72,
      "outputs": [
        {
          "output_type": "error",
          "ename": "RuntimeError",
          "evalue": "ignored",
          "traceback": [
            "\u001b[0;31m---------------------------------------------------------------------------\u001b[0m",
            "\u001b[0;31mRuntimeError\u001b[0m                              Traceback (most recent call last)",
            "\u001b[0;32m<ipython-input-72-1583826efbd9>\u001b[0m in \u001b[0;36m<module>\u001b[0;34m()\u001b[0m\n\u001b[0;32m----> 1\u001b[0;31m \u001b[0mtorch\u001b[0m\u001b[0;34m.\u001b[0m\u001b[0mstack\u001b[0m\u001b[0;34m(\u001b[0m\u001b[0;34m(\u001b[0m\u001b[0mtest1\u001b[0m\u001b[0;34m,\u001b[0m\u001b[0mtest2\u001b[0m\u001b[0;34m)\u001b[0m\u001b[0;34m,\u001b[0m\u001b[0maxis\u001b[0m\u001b[0;34m=\u001b[0m\u001b[0;36m2\u001b[0m\u001b[0;34m)\u001b[0m\u001b[0;34m\u001b[0m\u001b[0;34m\u001b[0m\u001b[0m\n\u001b[0m",
            "\u001b[0;31mRuntimeError\u001b[0m: stack expects each tensor to be equal size, but got [3, 3] at entry 0 and [3, 2] at entry 1"
          ]
        }
      ]
    },
    {
      "cell_type": "code",
      "metadata": {
        "colab": {
          "base_uri": "https://localhost:8080/"
        },
        "id": "RMJO47W9EhGA",
        "outputId": "8ef410c0-c977-47ce-b56c-106056065f4f"
      },
      "source": [
        "# 산술연산\n",
        "'''\n",
        "행렬 곱 /// y1==y2==y3\n",
        "'''\n",
        "y1 = tensor @ tensor.T\n",
        "y2 = tensor.matmul(tensor.T)\n",
        "\n",
        "y3 = torch.rand_like(tensor) # tensor와 똑같은 사이즈의 random으로 생성\n",
        "torch.matmul(tensor, tensor.T, out=y3)\n",
        "\n",
        "print(y3)\n",
        "'''\n",
        "요소별 곱  // z1==z2==z3\n",
        "'''\n",
        "z1 = tensor*tensor\n",
        "z2 = tensor.mul(tensor)\n",
        "z3 = torch.rand_like(tensor)\n",
        "torch.mul(tensor, tensor, out=z3)\n"
      ],
      "execution_count": 96,
      "outputs": [
        {
          "output_type": "stream",
          "name": "stdout",
          "text": [
            "tensor([[3., 3., 3., 3.],\n",
            "        [3., 3., 3., 3.],\n",
            "        [3., 3., 3., 3.],\n",
            "        [3., 3., 3., 3.]])\n"
          ]
        },
        {
          "output_type": "execute_result",
          "data": {
            "text/plain": [
              "tensor([[1., 0., 1., 1.],\n",
              "        [1., 0., 1., 1.],\n",
              "        [1., 0., 1., 1.],\n",
              "        [1., 0., 1., 1.]])"
            ]
          },
          "metadata": {},
          "execution_count": 96
        }
      ]
    },
    {
      "cell_type": "code",
      "metadata": {
        "colab": {
          "base_uri": "https://localhost:8080/"
        },
        "id": "GeYEJlgTMCSP",
        "outputId": "cef011c0-6f5d-4fce-eb26-f6a952160efa"
      },
      "source": [
        "# 요소가 1개인 텐서의 경우 item()을 사용하여 python 숫자 값으로 변환 가능\n",
        "agg = tensor.sum()\n",
        "agg"
      ],
      "execution_count": 98,
      "outputs": [
        {
          "output_type": "execute_result",
          "data": {
            "text/plain": [
              "tensor(12.)"
            ]
          },
          "metadata": {},
          "execution_count": 98
        }
      ]
    },
    {
      "cell_type": "code",
      "metadata": {
        "colab": {
          "base_uri": "https://localhost:8080/"
        },
        "id": "m73X3JBSRZ8U",
        "outputId": "56648a7e-e29b-4225-bbdf-54e5c1819656"
      },
      "source": [
        "print(agg.item())"
      ],
      "execution_count": 99,
      "outputs": [
        {
          "output_type": "stream",
          "name": "stdout",
          "text": [
            "12.0\n"
          ]
        }
      ]
    },
    {
      "cell_type": "code",
      "metadata": {
        "colab": {
          "base_uri": "https://localhost:8080/"
        },
        "id": "EfR4al2LRmOj",
        "outputId": "5a22be1e-fc34-403d-b74e-876d6df56b6c"
      },
      "source": [
        "# 바꿔치기 연산\n",
        "# 연산결과를 피연산자에 저장하는 연산을 바꿔치기 연산\n",
        "print(tensor)"
      ],
      "execution_count": 100,
      "outputs": [
        {
          "output_type": "stream",
          "name": "stdout",
          "text": [
            "tensor([[1., 0., 1., 1.],\n",
            "        [1., 0., 1., 1.],\n",
            "        [1., 0., 1., 1.],\n",
            "        [1., 0., 1., 1.]])\n"
          ]
        }
      ]
    },
    {
      "cell_type": "code",
      "metadata": {
        "colab": {
          "base_uri": "https://localhost:8080/"
        },
        "id": "eRskeo60R2qt",
        "outputId": "957d7932-1304-4784-836a-9795ee956c6c"
      },
      "source": [
        "tensor.add_(5)\n",
        "print(tensor)"
      ],
      "execution_count": 101,
      "outputs": [
        {
          "output_type": "stream",
          "name": "stdout",
          "text": [
            "tensor([[6., 5., 6., 6.],\n",
            "        [6., 5., 6., 6.],\n",
            "        [6., 5., 6., 6.],\n",
            "        [6., 5., 6., 6.]])\n"
          ]
        }
      ]
    },
    {
      "cell_type": "code",
      "metadata": {
        "colab": {
          "base_uri": "https://localhost:8080/"
        },
        "id": "wQtH3BUXR56Z",
        "outputId": "c2ce205f-9199-4894-969a-af8f8b6811b8"
      },
      "source": [
        "# 넘파이 변환\n",
        "t = torch.ones(5)\n",
        "print(t)\n",
        "\n",
        "n = t.numpy()\n",
        "print(n)"
      ],
      "execution_count": 102,
      "outputs": [
        {
          "output_type": "stream",
          "name": "stdout",
          "text": [
            "tensor([1., 1., 1., 1., 1.])\n",
            "[1. 1. 1. 1. 1.]\n"
          ]
        }
      ]
    },
    {
      "cell_type": "code",
      "metadata": {
        "colab": {
          "base_uri": "https://localhost:8080/"
        },
        "id": "9m-1EMUZSDG4",
        "outputId": "f8aba226-44fb-4215-f195-85415dff1040"
      },
      "source": [
        "# 텐서의 변경 사항이 넘파이 배열에 반영\n",
        "t.add_(1)\n",
        "print(t)\n",
        "print(n)"
      ],
      "execution_count": 103,
      "outputs": [
        {
          "output_type": "stream",
          "name": "stdout",
          "text": [
            "tensor([2., 2., 2., 2., 2.])\n",
            "[2. 2. 2. 2. 2.]\n"
          ]
        }
      ]
    },
    {
      "cell_type": "code",
      "metadata": {
        "id": "HS9dyodrSKiy"
      },
      "source": [
        ""
      ],
      "execution_count": null,
      "outputs": []
    }
  ]
}